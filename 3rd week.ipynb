{
 "cells": [
  {
   "cell_type": "code",
   "execution_count": 1,
   "metadata": {},
   "outputs": [],
   "source": [
    "class Human:\n",
    "    pass"
   ]
  },
  {
   "cell_type": "code",
   "execution_count": 2,
   "metadata": {},
   "outputs": [
    {
     "name": "stdout",
     "output_type": "stream",
     "text": [
      "<class '__main__.Human'>\n"
     ]
    }
   ],
   "source": [
    "print(Human)"
   ]
  },
  {
   "cell_type": "code",
   "execution_count": 3,
   "metadata": {},
   "outputs": [
    {
     "name": "stdout",
     "output_type": "stream",
     "text": [
      "['__class__', '__delattr__', '__dict__', '__dir__', '__doc__', '__eq__', '__format__', '__ge__', '__getattribute__', '__gt__', '__hash__', '__init__', '__init_subclass__', '__le__', '__lt__', '__module__', '__ne__', '__new__', '__reduce__', '__reduce_ex__', '__repr__', '__setattr__', '__sizeof__', '__str__', '__subclasshook__', '__weakref__']\n"
     ]
    }
   ],
   "source": [
    "print(dir(Human))"
   ]
  },
  {
   "cell_type": "code",
   "execution_count": 4,
   "metadata": {},
   "outputs": [],
   "source": [
    "class Planet:\n",
    "    pass"
   ]
  },
  {
   "cell_type": "code",
   "execution_count": 5,
   "metadata": {},
   "outputs": [],
   "source": [
    "planet = Planet()"
   ]
  },
  {
   "cell_type": "code",
   "execution_count": 6,
   "metadata": {},
   "outputs": [
    {
     "name": "stdout",
     "output_type": "stream",
     "text": [
      "<__main__.Planet object at 0x7fa688a63be0>\n"
     ]
    }
   ],
   "source": [
    "print(planet)"
   ]
  },
  {
   "cell_type": "code",
   "execution_count": 9,
   "metadata": {},
   "outputs": [
    {
     "name": "stdout",
     "output_type": "stream",
     "text": [
      "[<__main__.Planet object at 0x7fa688a97280>, <__main__.Planet object at 0x7fa688a63be0>, <__main__.Planet object at 0x7fa688a97070>, <__main__.Planet object at 0x7fa688a97340>, <__main__.Planet object at 0x7fa688a97730>, <__main__.Planet object at 0x7fa688a972b0>, <__main__.Planet object at 0x7fa688a97400>, <__main__.Planet object at 0x7fa688a97460>]\n"
     ]
    }
   ],
   "source": [
    "solar_system = []\n",
    "for i in range(8):\n",
    "    planet = Planet()\n",
    "    solar_system.append(planet)\n",
    "\n",
    "print(solar_system)"
   ]
  },
  {
   "cell_type": "code",
   "execution_count": 15,
   "metadata": {},
   "outputs": [],
   "source": [
    "class Planet:\n",
    "    def __init__(self,name):\n",
    "        self.name = name\n",
    "    #def __str__(self):\n",
    "        #return self.name\n",
    "    def __repr__(self):\n",
    "        return f\"Planet {self.name}\""
   ]
  },
  {
   "cell_type": "code",
   "execution_count": 16,
   "metadata": {},
   "outputs": [
    {
     "name": "stdout",
     "output_type": "stream",
     "text": [
      "Earth\n",
      "Planet Earth\n"
     ]
    }
   ],
   "source": [
    "earth = Planet(\"Earth\")\n",
    "print(earth.name)\n",
    "print(earth)"
   ]
  },
  {
   "cell_type": "code",
   "execution_count": 17,
   "metadata": {},
   "outputs": [
    {
     "name": "stdout",
     "output_type": "stream",
     "text": [
      "[Planet Mercury, Planet Venus, Planet Earth, Planet Mars, Planet Jupiter, Planet Saturn, Planet Uranus, Planet Neptune]\n"
     ]
    }
   ],
   "source": [
    "solar_system = []\n",
    "planet_names = [\n",
    "    \"Mercury\", \"Venus\", \"Earth\", \"Mars\",\n",
    "    \"Jupiter\", \"Saturn\", \"Uranus\", \"Neptune\"\n",
    "]\n",
    "for name in planet_names:\n",
    "    planet = Planet(name)\n",
    "    solar_system.append(planet)\n",
    "print(solar_system)"
   ]
  },
  {
   "cell_type": "code",
   "execution_count": 18,
   "metadata": {},
   "outputs": [
    {
     "name": "stdout",
     "output_type": "stream",
     "text": [
      "Planet Mars\n"
     ]
    }
   ],
   "source": [
    "mars = Planet(\"Mars\")\n",
    "print(mars)"
   ]
  },
  {
   "cell_type": "code",
   "execution_count": 19,
   "metadata": {},
   "outputs": [
    {
     "data": {
      "text/plain": [
       "'Mars'"
      ]
     },
     "execution_count": 19,
     "metadata": {},
     "output_type": "execute_result"
    }
   ],
   "source": [
    "mars.name"
   ]
  },
  {
   "cell_type": "code",
   "execution_count": 20,
   "metadata": {},
   "outputs": [],
   "source": [
    "mars.name = \"ne Mars\""
   ]
  },
  {
   "cell_type": "code",
   "execution_count": 21,
   "metadata": {},
   "outputs": [
    {
     "data": {
      "text/plain": [
       "'ne Mars'"
      ]
     },
     "execution_count": 21,
     "metadata": {},
     "output_type": "execute_result"
    }
   ],
   "source": [
    "mars.name"
   ]
  },
  {
   "cell_type": "code",
   "execution_count": 22,
   "metadata": {},
   "outputs": [
    {
     "ename": "AttributeError",
     "evalue": "'Planet' object has no attribute 'mass'",
     "output_type": "error",
     "traceback": [
      "\u001b[0;31m---------------------------------------------------------------------------\u001b[0m",
      "\u001b[0;31mAttributeError\u001b[0m                            Traceback (most recent call last)",
      "\u001b[0;32m<ipython-input-22-318658eaebb0>\u001b[0m in \u001b[0;36m<module>\u001b[0;34m\u001b[0m\n\u001b[0;32m----> 1\u001b[0;31m \u001b[0mmars\u001b[0m\u001b[0;34m.\u001b[0m\u001b[0mmass\u001b[0m\u001b[0;34m\u001b[0m\u001b[0;34m\u001b[0m\u001b[0m\n\u001b[0m",
      "\u001b[0;31mAttributeError\u001b[0m: 'Planet' object has no attribute 'mass'"
     ]
    }
   ],
   "source": [
    "mars.mass"
   ]
  },
  {
   "cell_type": "code",
   "execution_count": 23,
   "metadata": {},
   "outputs": [],
   "source": [
    "del mars.name"
   ]
  },
  {
   "cell_type": "code",
   "execution_count": 24,
   "metadata": {},
   "outputs": [
    {
     "ename": "AttributeError",
     "evalue": "'Planet' object has no attribute 'name'",
     "output_type": "error",
     "traceback": [
      "\u001b[0;31m---------------------------------------------------------------------------\u001b[0m",
      "\u001b[0;31mAttributeError\u001b[0m                            Traceback (most recent call last)",
      "\u001b[0;32m<ipython-input-24-373d1c5d2a16>\u001b[0m in \u001b[0;36m<module>\u001b[0;34m\u001b[0m\n\u001b[0;32m----> 1\u001b[0;31m \u001b[0mmars\u001b[0m\u001b[0;34m.\u001b[0m\u001b[0mname\u001b[0m\u001b[0;34m\u001b[0m\u001b[0;34m\u001b[0m\u001b[0m\n\u001b[0m",
      "\u001b[0;31mAttributeError\u001b[0m: 'Planet' object has no attribute 'name'"
     ]
    }
   ],
   "source": [
    "mars.name"
   ]
  },
  {
   "cell_type": "code",
   "execution_count": 37,
   "metadata": {},
   "outputs": [],
   "source": [
    "class Planet:\n",
    "    count = 0\n",
    "    def __init__ (self, name, population = None):\n",
    "        self.name = name\n",
    "        self.population = population or []\n",
    "        Planet.count += 1"
   ]
  },
  {
   "cell_type": "code",
   "execution_count": 38,
   "metadata": {},
   "outputs": [
    {
     "name": "stdout",
     "output_type": "stream",
     "text": [
      "3\n"
     ]
    }
   ],
   "source": [
    "earth = Planet(\"Earth\")\n",
    "mars = Planet(\"Mars\")\n",
    "venus = Planet(\"Venus\")\n",
    "print(Planet.count)"
   ]
  },
  {
   "cell_type": "code",
   "execution_count": 39,
   "metadata": {},
   "outputs": [
    {
     "data": {
      "text/plain": [
       "3"
      ]
     },
     "execution_count": 39,
     "metadata": {},
     "output_type": "execute_result"
    }
   ],
   "source": [
    "mars.count"
   ]
  },
  {
   "cell_type": "code",
   "execution_count": 40,
   "metadata": {},
   "outputs": [],
   "source": [
    "class Human:\n",
    "    \n",
    "    def __del__(self):\n",
    "        print(\"Goodbye !\")"
   ]
  },
  {
   "cell_type": "code",
   "execution_count": 41,
   "metadata": {},
   "outputs": [
    {
     "name": "stdout",
     "output_type": "stream",
     "text": [
      "Goodbye !\n"
     ]
    }
   ],
   "source": [
    "human = Human()\n",
    "del human"
   ]
  },
  {
   "cell_type": "code",
   "execution_count": 43,
   "metadata": {},
   "outputs": [],
   "source": [
    "class Planet:\n",
    "    \" \" \"This class describes planets\" \" \"\n",
    "    \n",
    "    count = 1\n",
    "    \n",
    "    def __init__(self, name, population = None):\n",
    "        self.name = name\n",
    "        self.population = population or []\n",
    "        \n",
    "planet = Planet(\"Earth\")"
   ]
  },
  {
   "cell_type": "code",
   "execution_count": 44,
   "metadata": {},
   "outputs": [
    {
     "data": {
      "text/plain": [
       "{'name': 'Earth', 'population': []}"
      ]
     },
     "execution_count": 44,
     "metadata": {},
     "output_type": "execute_result"
    }
   ],
   "source": [
    "planet.__dict__"
   ]
  },
  {
   "cell_type": "code",
   "execution_count": 45,
   "metadata": {},
   "outputs": [],
   "source": [
    "planet.mass = 5.97e24"
   ]
  },
  {
   "cell_type": "code",
   "execution_count": 46,
   "metadata": {},
   "outputs": [
    {
     "data": {
      "text/plain": [
       "{'name': 'Earth', 'population': [], 'mass': 5.97e+24}"
      ]
     },
     "execution_count": 46,
     "metadata": {},
     "output_type": "execute_result"
    }
   ],
   "source": [
    "planet.__dict__"
   ]
  },
  {
   "cell_type": "code",
   "execution_count": 47,
   "metadata": {},
   "outputs": [
    {
     "data": {
      "text/plain": [
       "mappingproxy({'__module__': '__main__',\n",
       "              '__doc__': ' This class describes planets ',\n",
       "              'count': 1,\n",
       "              '__init__': <function __main__.Planet.__init__(self, name, population=None)>,\n",
       "              '__dict__': <attribute '__dict__' of 'Planet' objects>,\n",
       "              '__weakref__': <attribute '__weakref__' of 'Planet' objects>})"
      ]
     },
     "execution_count": 47,
     "metadata": {},
     "output_type": "execute_result"
    }
   ],
   "source": [
    "Planet.__dict__"
   ]
  },
  {
   "cell_type": "code",
   "execution_count": 48,
   "metadata": {},
   "outputs": [
    {
     "data": {
      "text/plain": [
       "' This class describes planets '"
      ]
     },
     "execution_count": 48,
     "metadata": {},
     "output_type": "execute_result"
    }
   ],
   "source": [
    "Planet.__doc__"
   ]
  },
  {
   "cell_type": "code",
   "execution_count": 49,
   "metadata": {},
   "outputs": [
    {
     "data": {
      "text/plain": [
       "' This class describes planets '"
      ]
     },
     "execution_count": 49,
     "metadata": {},
     "output_type": "execute_result"
    }
   ],
   "source": [
    "planet.__doc__"
   ]
  },
  {
   "cell_type": "code",
   "execution_count": 50,
   "metadata": {},
   "outputs": [
    {
     "name": "stdout",
     "output_type": "stream",
     "text": [
      "['__class__', '__delattr__', '__dict__', '__dir__', '__doc__', '__eq__', '__format__', '__ge__', '__getattribute__', '__gt__', '__hash__', '__init__', '__init_subclass__', '__le__', '__lt__', '__module__', '__ne__', '__new__', '__reduce__', '__reduce_ex__', '__repr__', '__setattr__', '__sizeof__', '__str__', '__subclasshook__', '__weakref__', 'count', 'mass', 'name', 'population']\n"
     ]
    }
   ],
   "source": [
    "print(dir(planet))"
   ]
  },
  {
   "cell_type": "code",
   "execution_count": 51,
   "metadata": {},
   "outputs": [
    {
     "data": {
      "text/plain": [
       "__main__.Planet"
      ]
     },
     "execution_count": 51,
     "metadata": {},
     "output_type": "execute_result"
    }
   ],
   "source": [
    "planet.__class__"
   ]
  },
  {
   "cell_type": "code",
   "execution_count": 52,
   "metadata": {},
   "outputs": [],
   "source": [
    "class Planet:\n",
    "    def __new__(cls, *args, **kwargs):\n",
    "        print(\"__new__ called\")\n",
    "        obj = super().__new__(cls) #создание нового экземпляра класса, который еще не был инициализирован\n",
    "        return obj\n",
    "    \n",
    "    def __init__ (self, name):\n",
    "        print(\"__init__called\")\n",
    "        self.name = name"
   ]
  },
  {
   "cell_type": "code",
   "execution_count": 53,
   "metadata": {},
   "outputs": [
    {
     "name": "stdout",
     "output_type": "stream",
     "text": [
      "__new__ called\n",
      "__init__called\n"
     ]
    }
   ],
   "source": [
    "earth = Planet(\"Earth\")\n",
    "# сначала new, потом init"
   ]
  },
  {
   "cell_type": "code",
   "execution_count": 58,
   "metadata": {},
   "outputs": [],
   "source": [
    "class Human:\n",
    "    \n",
    "    def __init__(self, name, age=0):\n",
    "        self.name = name\n",
    "        self.age = age\n",
    "        \n",
    "class Planet:\n",
    "    \n",
    "    def __init__(self, name, population = None):\n",
    "        self.name = name\n",
    "        self.population = population or []    \n",
    "        \n",
    "    def add_human (self, human):\n",
    "        print(f\"Welcome to {self.name}, {human.name}!\")\n",
    "        self.population.append(human)"
   ]
  },
  {
   "cell_type": "code",
   "execution_count": 59,
   "metadata": {},
   "outputs": [
    {
     "name": "stdout",
     "output_type": "stream",
     "text": [
      "Welcome to Mars, Bob!\n"
     ]
    }
   ],
   "source": [
    "mars = Planet(\"Mars\")\n",
    "\n",
    "bob = Human(\"Bob\")\n",
    "\n",
    "mars.add_human(bob)"
   ]
  },
  {
   "cell_type": "raw",
   "metadata": {},
   "source": [
    "mars.population"
   ]
  },
  {
   "cell_type": "markdown",
   "metadata": {},
   "source": []
  },
  {
   "cell_type": "code",
   "execution_count": 60,
   "metadata": {},
   "outputs": [
    {
     "data": {
      "text/plain": [
       "[<__main__.Human at 0x7fa688a63e20>]"
      ]
     },
     "execution_count": 60,
     "metadata": {},
     "output_type": "execute_result"
    }
   ],
   "source": [
    "mars.population"
   ]
  },
  {
   "cell_type": "code",
   "execution_count": 65,
   "metadata": {},
   "outputs": [],
   "source": [
    "class Human:\n",
    "    def __init__(self, name, age = 0):\n",
    "        self.name = name\n",
    "        self.age = age\n",
    "        \n",
    "    def _say(self, text):\n",
    "        print(text)\n",
    "        \n",
    "    def say_name(self):\n",
    "        self._say(f\"Hello, I am {self.name}\")\n",
    "        \n",
    "    def say_how_old(self): \n",
    "        self._say(f\"I am {self.age} years old\")"
   ]
  },
  {
   "cell_type": "code",
   "execution_count": 66,
   "metadata": {},
   "outputs": [],
   "source": [
    "bob = Human(\"Bob\", age=29)"
   ]
  },
  {
   "cell_type": "code",
   "execution_count": 67,
   "metadata": {},
   "outputs": [
    {
     "name": "stdout",
     "output_type": "stream",
     "text": [
      "Hello, I am Bob\n"
     ]
    }
   ],
   "source": [
    "bob.say_name()"
   ]
  },
  {
   "cell_type": "code",
   "execution_count": 69,
   "metadata": {},
   "outputs": [
    {
     "name": "stdout",
     "output_type": "stream",
     "text": [
      "I am 29 years old\n"
     ]
    }
   ],
   "source": [
    "bob.say_how_old()"
   ]
  },
  {
   "cell_type": "code",
   "execution_count": 70,
   "metadata": {},
   "outputs": [
    {
     "name": "stdout",
     "output_type": "stream",
     "text": [
      "я не боб\n"
     ]
    }
   ],
   "source": [
    "#не рекомендуется \n",
    "bob._say('я не боб')"
   ]
  },
  {
   "cell_type": "code",
   "execution_count": 74,
   "metadata": {},
   "outputs": [],
   "source": [
    "class Event:\n",
    "    def __init__(self, description, event_date):\n",
    "        self.description = description\n",
    "        self.date = event_date\n",
    "        \n",
    "    def __str__(self):\n",
    "        return f\"Event \\\"{self.description} \\\"at {self.date} \""
   ]
  },
  {
   "cell_type": "code",
   "execution_count": 75,
   "metadata": {},
   "outputs": [
    {
     "name": "stdout",
     "output_type": "stream",
     "text": [
      "Event \" AYФ \"at 2021-02-09 \n"
     ]
    }
   ],
   "source": [
    "from datetime import date\n",
    "\n",
    "event_description = \" AYФ\"\n",
    "event_date = date.today()\n",
    "\n",
    "event = Event(event_description, event_date)\n",
    "print(event)"
   ]
  },
  {
   "cell_type": "code",
   "execution_count": 79,
   "metadata": {},
   "outputs": [],
   "source": [
    "def extract_description(user_string):\n",
    "    return \"ауф\"\n",
    "\n",
    "def extract_date(user_string):\n",
    "    return date(2021, 1, 1)\n",
    "\n",
    "class Event:\n",
    "    \n",
    "    def __init__(self, description, event_date):\n",
    "        self.description = description\n",
    "        self.date = event_date\n",
    "        \n",
    "    def __str__(self):\n",
    "         return f\"Event \\\"{self.description} \\\"at {self.date} \"\n",
    "    \n",
    "    @classmethod\n",
    "    def from_string(cls, user_input):\n",
    "        description = extract_description(user_input)\n",
    "        date = extract_date(user_input)\n",
    "        return cls(description, date)"
   ]
  },
  {
   "cell_type": "code",
   "execution_count": 80,
   "metadata": {},
   "outputs": [
    {
     "name": "stdout",
     "output_type": "stream",
     "text": [
      "Event \"ауф \"at 2021-01-01 \n"
     ]
    }
   ],
   "source": [
    "event = Event.from_string(\"\")\n",
    "print(event)"
   ]
  },
  {
   "cell_type": "code",
   "execution_count": 81,
   "metadata": {},
   "outputs": [
    {
     "data": {
      "text/plain": [
       "{'1': None, '2': None, '3': None, '4': None, '5': None}"
      ]
     },
     "execution_count": 81,
     "metadata": {},
     "output_type": "execute_result"
    }
   ],
   "source": [
    "dict.fromkeys(\"12345\")"
   ]
  },
  {
   "cell_type": "code",
   "execution_count": 82,
   "metadata": {},
   "outputs": [],
   "source": [
    "class Human:\n",
    "    \n",
    "    def __init__(self, name, age = 0):\n",
    "        self.name = name\n",
    "        self.age = age\n",
    "        \n",
    "    @staticmethod\n",
    "    def is_age_valid(age):\n",
    "        return 0 < age < 150"
   ]
  },
  {
   "cell_type": "code",
   "execution_count": 83,
   "metadata": {},
   "outputs": [
    {
     "data": {
      "text/plain": [
       "False"
      ]
     },
     "execution_count": 83,
     "metadata": {},
     "output_type": "execute_result"
    }
   ],
   "source": [
    "Human.is_age_valid(1488)"
   ]
  },
  {
   "cell_type": "code",
   "execution_count": 85,
   "metadata": {},
   "outputs": [
    {
     "data": {
      "text/plain": [
       "True"
      ]
     },
     "execution_count": 85,
     "metadata": {},
     "output_type": "execute_result"
    }
   ],
   "source": [
    "human = Human(\"Old Bobby\")\n",
    "human.is_age_valid(100)"
   ]
  },
  {
   "cell_type": "code",
   "execution_count": 86,
   "metadata": {},
   "outputs": [],
   "source": [
    "class Robot :\n",
    "    def __init__(self, power):\n",
    "        self.power = power\n",
    "    "
   ]
  },
  {
   "cell_type": "code",
   "execution_count": 87,
   "metadata": {},
   "outputs": [],
   "source": [
    "wall_e = Robot(100)"
   ]
  },
  {
   "cell_type": "code",
   "execution_count": 88,
   "metadata": {},
   "outputs": [
    {
     "name": "stdout",
     "output_type": "stream",
     "text": [
      "100\n"
     ]
    }
   ],
   "source": [
    "print(wall_e.power)"
   ]
  },
  {
   "cell_type": "code",
   "execution_count": 89,
   "metadata": {},
   "outputs": [
    {
     "name": "stdout",
     "output_type": "stream",
     "text": [
      "200\n"
     ]
    }
   ],
   "source": [
    "wall_e.power= 200\n",
    "print(wall_e.power)"
   ]
  },
  {
   "cell_type": "code",
   "execution_count": 90,
   "metadata": {},
   "outputs": [],
   "source": [
    "wall_e.power = -200"
   ]
  },
  {
   "cell_type": "code",
   "execution_count": 103,
   "metadata": {},
   "outputs": [],
   "source": [
    "class Robot1:\n",
    "    def __init__(self, power):\n",
    "        self.power = power\n",
    "    \n",
    "    def set_power(self, power):\n",
    "        if power < 0:\n",
    "            self.power = 0\n",
    "        else:\n",
    "            self.power = power"
   ]
  },
  {
   "cell_type": "code",
   "execution_count": 106,
   "metadata": {},
   "outputs": [
    {
     "name": "stdout",
     "output_type": "stream",
     "text": [
      "-100\n"
     ]
    }
   ],
   "source": [
    "wall_e = Robot1(-100)\n",
    "print(wall_e.power)"
   ]
  },
  {
   "cell_type": "code",
   "execution_count": 105,
   "metadata": {},
   "outputs": [
    {
     "name": "stdout",
     "output_type": "stream",
     "text": [
      "-200\n"
     ]
    }
   ],
   "source": [
    "wall_e.power= -200\n",
    "print(wall_e.power)\n",
    "#кого?????"
   ]
  },
  {
   "cell_type": "code",
   "execution_count": 110,
   "metadata": {},
   "outputs": [],
   "source": [
    "class Robot:\n",
    "    def __init__(self, power):\n",
    "        self.power = power\n",
    "        \n",
    "    power = property()\n",
    "    \n",
    "    @power.setter\n",
    "    def power(self, value):\n",
    "        if value < 0:\n",
    "            self._power = 0\n",
    "        else:\n",
    "            self._power = value\n",
    "            \n",
    "    @power.getter\n",
    "    def power(self):\n",
    "        return self._power\n",
    "    \n",
    "    @power.deleter\n",
    "    def power(self):\n",
    "        print(\"make robot useless\")\n",
    "        del self._power"
   ]
  },
  {
   "cell_type": "code",
   "execution_count": 111,
   "metadata": {},
   "outputs": [],
   "source": [
    "waaall_e = Robot(100)"
   ]
  },
  {
   "cell_type": "code",
   "execution_count": 112,
   "metadata": {},
   "outputs": [
    {
     "name": "stdout",
     "output_type": "stream",
     "text": [
      "100\n"
     ]
    }
   ],
   "source": [
    "print(waaall_e.power)"
   ]
  },
  {
   "cell_type": "code",
   "execution_count": 114,
   "metadata": {},
   "outputs": [],
   "source": [
    "waaall_e.power=-10\n"
   ]
  },
  {
   "cell_type": "code",
   "execution_count": 115,
   "metadata": {},
   "outputs": [
    {
     "name": "stdout",
     "output_type": "stream",
     "text": [
      "0\n"
     ]
    }
   ],
   "source": [
    "print(waaall_e.power)"
   ]
  },
  {
   "cell_type": "code",
   "execution_count": 3,
   "metadata": {},
   "outputs": [
    {
     "ename": "TypeError",
     "evalue": "exceptions must derive from BaseException",
     "output_type": "error",
     "traceback": [
      "\u001b[0;31m---------------------------------------------------------------------------\u001b[0m",
      "\u001b[0;31mTypeError\u001b[0m                                 Traceback (most recent call last)",
      "\u001b[0;32m<ipython-input-3-a37102f0b282>\u001b[0m in \u001b[0;36m<module>\u001b[0;34m\u001b[0m\n\u001b[0;32m----> 1\u001b[0;31m \u001b[0;32mraise\u001b[0m \u001b[0;34m\"ValueError\"\u001b[0m\u001b[0;34m\u001b[0m\u001b[0;34m\u001b[0m\u001b[0m\n\u001b[0m",
      "\u001b[0;31mTypeError\u001b[0m: exceptions must derive from BaseException"
     ]
    }
   ],
   "source": [
    "raise \"ValueError\""
   ]
  },
  {
   "cell_type": "code",
   "execution_count": null,
   "metadata": {},
   "outputs": [],
   "source": []
  },
  {
   "cell_type": "code",
   "execution_count": null,
   "metadata": {},
   "outputs": [],
   "source": []
  }
 ],
 "metadata": {
  "kernelspec": {
   "display_name": "Python 3",
   "language": "python",
   "name": "python3"
  },
  "language_info": {
   "codemirror_mode": {
    "name": "ipython",
    "version": 3
   },
   "file_extension": ".py",
   "mimetype": "text/x-python",
   "name": "python",
   "nbconvert_exporter": "python",
   "pygments_lexer": "ipython3",
   "version": "3.8.5"
  }
 },
 "nbformat": 4,
 "nbformat_minor": 4
}
