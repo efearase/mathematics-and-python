{
 "cells": [
  {
   "cell_type": "markdown",
   "id": "245053e7",
   "metadata": {},
   "source": [
    "## Первая часть\n",
    "Дан набор предложений, скопированных с Википедии. Каждое из них имеет \"кошачью тему\" в одном из трех смыслов:\n",
    "\n",
    "кошки (животные)\n",
    "UNIX-утилита cat для вывода содержимого файлов\n",
    "версии операционной системы OS X, названные в честь семейства кошачьих\n",
    "Ваша задача — найти два предложения, которые ближе всего по смыслу к расположенному в самой первой строке. В качестве меры близости по смыслу мы будем использовать косинусное расстояние."
   ]
  },
  {
   "cell_type": "code",
   "execution_count": 34,
   "id": "a11d28dc",
   "metadata": {},
   "outputs": [],
   "source": [
    "import numpy as np\n",
    "import re\n",
    "with open('/Users/gosa/Downloads/sentences.txt') as f:\n",
    "        sentences = f.readlines()\n",
    "for i in range(len(sentences)):\n",
    "    sentences[i] = sentences[i].lower()\n",
    "    sentences[i] = sentences[i][0:len(sentences[i])-1]\n",
    "    sentences[i] = re.split('[^a-z]', sentences[i])\n",
    "    sentences[i] = [x for x in sentences[i] if x]"
   ]
  },
  {
   "cell_type": "code",
   "execution_count": 2,
   "id": "8fd16e25",
   "metadata": {},
   "outputs": [],
   "source": [
    "set_of_unique_words = set()\n",
    "for sentence in sentences:\n",
    "    set_of_unique_words = set_of_unique_words | set(sentence)"
   ]
  },
  {
   "cell_type": "code",
   "execution_count": 5,
   "id": "d945e027",
   "metadata": {},
   "outputs": [
    {
     "data": {
      "text/plain": [
       "array([[0., 0., 0., ..., 0., 0., 0.],\n",
       "       [0., 0., 0., ..., 0., 0., 0.],\n",
       "       [0., 0., 0., ..., 0., 0., 0.],\n",
       "       ...,\n",
       "       [0., 0., 0., ..., 0., 0., 0.],\n",
       "       [0., 0., 0., ..., 0., 0., 0.],\n",
       "       [0., 0., 0., ..., 0., 0., 0.]])"
      ]
     },
     "execution_count": 5,
     "metadata": {},
     "output_type": "execute_result"
    }
   ],
   "source": [
    "matrix = np.zeros(shape=(len(sentences),len(set_of_unique_words)))\n",
    "matrix"
   ]
  },
  {
   "cell_type": "code",
   "execution_count": 6,
   "id": "775aa92a",
   "metadata": {},
   "outputs": [],
   "source": [
    "from collections import Counter\n",
    "def unique(list):\n",
    "    cnt = Counter()\n",
    "    for word in list:\n",
    "        cnt[word] += 1\n",
    "    return cnt"
   ]
  },
  {
   "cell_type": "code",
   "execution_count": 14,
   "id": "6c7575b3",
   "metadata": {},
   "outputs": [
    {
     "data": {
      "text/plain": [
       "0"
      ]
     },
     "execution_count": 14,
     "metadata": {},
     "output_type": "execute_result"
    }
   ],
   "source": [
    "dict_of_unique_words = {}\n",
    "for item in enumerate(set_of_unique_words):\n",
    "    dict_of_unique_words[item[1]] = item[0]\n",
    "dict_of_unique_words['comparison']"
   ]
  },
  {
   "cell_type": "code",
   "execution_count": 26,
   "id": "72fad9c0",
   "metadata": {},
   "outputs": [],
   "source": [
    "#Заполняем матрицу\n",
    "for i in range(len(sentences)):\n",
    "    d = unique(sentences[i])\n",
    "    for word in sentences[i]:\n",
    "        matrix[i][dict_of_unique_words[word]] = d[word]"
   ]
  },
  {
   "cell_type": "code",
   "execution_count": 30,
   "id": "51864318",
   "metadata": {},
   "outputs": [
    {
     "name": "stdout",
     "output_type": "stream",
     "text": [
      "{0: 0.0, 1: 0.9527544408738466, 2: 0.8644738145642124, 3: 0.8951715163278082, 4: 0.7770887149698589, 5: 0.9402385695332803, 6: 0.7327387580875756, 7: 0.9258750683338899, 8: 0.8842724875284311, 9: 0.9055088817476932, 10: 0.8328165362273942, 11: 0.8804771390665607, 12: 0.8396432548525454, 13: 0.8703592552895671, 14: 0.8740118423302576, 15: 0.9442721787424647, 16: 0.8406361854220809, 17: 0.956644501523794, 18: 0.9442721787424647, 19: 0.8885443574849294, 20: 0.8427572744917122, 21: 0.8250364469440588}\n"
     ]
    }
   ],
   "source": [
    "from scipy.spatial import distance\n",
    "dist = {}\n",
    "for number in range(len(matrix)):\n",
    "    dist[number] = distance.cosine(matrix[0], matrix[number])\n",
    "print (dist)"
   ]
  },
  {
   "cell_type": "code",
   "execution_count": 31,
   "id": "ac334d18",
   "metadata": {},
   "outputs": [
    {
     "name": "stdout",
     "output_type": "stream",
     "text": [
      "{0: 0.0, 6: 0.7327387580875756, 4: 0.7770887149698589, 21: 0.8250364469440588, 10: 0.8328165362273942, 12: 0.8396432548525454, 16: 0.8406361854220809, 20: 0.8427572744917122, 2: 0.8644738145642124, 13: 0.8703592552895671, 14: 0.8740118423302576, 11: 0.8804771390665607, 8: 0.8842724875284311, 19: 0.8885443574849294, 3: 0.8951715163278082, 9: 0.9055088817476932, 7: 0.9258750683338899, 5: 0.9402385695332803, 15: 0.9442721787424647, 1: 0.9527544408738466, 17: 0.956644501523794}\n"
     ]
    }
   ],
   "source": [
    "sorted_values = sorted(dist.values()) # Sort the values\n",
    "sorted_dict = {}\n",
    "\n",
    "for i in sorted_values:\n",
    "    for k in dist.keys():\n",
    "        if dist[k] == i:\n",
    "            sorted_dict[k] = dist[k]\n",
    "            break\n",
    "print(sorted_dict)"
   ]
  },
  {
   "cell_type": "code",
   "execution_count": 33,
   "id": "402c6034",
   "metadata": {},
   "outputs": [
    {
     "name": "stdout",
     "output_type": "stream",
     "text": [
      "Domestic cats are similar in size to the other members of the genus Felis, typically weighing between 4 and 5 kg (8.8 and 11.0 lb).\n",
      " In one, people deliberately tamed cats in a process of artificial selection, as they were useful predators of vermin.\n",
      " The fifth major update to Mac OS X, Leopard, contains such a mountain of features - more than 300 by Apple's count.\n",
      " In comparison to dogs, cats have not undergone major changes during the domestication process.\n",
      "\n"
     ]
    }
   ],
   "source": [
    "with open('/Users/gosa/Downloads/sentences.txt') as f:\n",
    "        raw_sentences = f.readlines()\n",
    "print(raw_sentences[6], raw_sentences[4], raw_sentences[21], raw_sentences[0])"
   ]
  },
  {
   "cell_type": "markdown",
   "id": "8e559450",
   "metadata": {},
   "source": [
    "## Вторая часть\n",
    "Рассмотрим сложную математическую функцию на отрезке [1, 15]:\n",
    "\n",
    "f(x) = sin(x / 5) * exp(x / 10) + 5 * exp(-x / 2)\n",
    "\n",
    "\n",
    "Она может описывать, например, зависимость оценок, которые выставляют определенному сорту вина эксперты, в зависимости от возраста этого вина. По сути, задача машинного обучения состоит в том, чтобы приблизить сложную зависимость с помощью функции из определенного семейства. В этом задании мы будем приближать указанную функцию с помощью многочленов."
   ]
  },
  {
   "cell_type": "code",
   "execution_count": 51,
   "id": "3eebf8b3",
   "metadata": {},
   "outputs": [],
   "source": [
    "# Линейное приближение\n",
    "from math import sin, exp\n",
    "def f(x:float):\n",
    "    return(np.sin(x / 5) * np.exp(x / 10) + 5 * np.exp(-x / 2))"
   ]
  },
  {
   "cell_type": "code",
   "execution_count": 52,
   "id": "dc9d133a",
   "metadata": {},
   "outputs": [
    {
     "name": "stdout",
     "output_type": "stream",
     "text": [
      "Матрица A:\n",
      " [[ 1  1]\n",
      " [15  1]]\n",
      "Вектор b:\n",
      " [3.25221687 0.63522142]\n",
      "Решение системы:\n",
      " [-0.18692825  3.43914511]\n"
     ]
    }
   ],
   "source": [
    "A = np.array([[1, 1], [15, 1]])\n",
    "b = np.array([f(1), f(15)])\n",
    "x = np.linalg.solve(A, b)\n",
    "print (\"Матрица A:\\n\", A)\n",
    "print (\"Вектор b:\\n\", b)\n",
    "print (\"Решение системы:\\n\", x)"
   ]
  },
  {
   "cell_type": "code",
   "execution_count": 53,
   "id": "5968297d",
   "metadata": {},
   "outputs": [
    {
     "data": {
      "image/png": "[encoded data removed]",
      "text/plain": [
       "<Figure size 432x288 with 1 Axes>"
      ]
     },
     "metadata": {
      "needs_background": "light"
     },
     "output_type": "display_data"
    }
   ],
   "source": [
    "%matplotlib inline\n",
    "from matplotlib import pylab as plt\n",
    "\n",
    "def linear(x:float):\n",
    "    return(-0.18692825 * x + 3.43914511)\n",
    "\n",
    "\n",
    "x = np.arange(1, 15, 0.01)\n",
    "y_1 = linear(x)\n",
    "y_2 = f(x)\n",
    "\n",
    "plt.plot(x, y_1)\n",
    "plt.plot(x, y_2)\n",
    "plt.show()"
   ]
  },
  {
   "cell_type": "code",
   "execution_count": 54,
   "id": "97e2216d",
   "metadata": {},
   "outputs": [
    {
     "name": "stdout",
     "output_type": "stream",
     "text": [
      "Матрица A:\n",
      " [[  1   1   1]\n",
      " [  8   8   1]\n",
      " [225  15   1]]\n",
      "Вектор b:\n",
      " [3.25221687 2.31617016 0.63522142]\n",
      "Решение системы:\n",
      " [-0.00354715 -0.13017381  3.38593782]\n"
     ]
    }
   ],
   "source": [
    "# Квадратичное приближение\n",
    "A = np.array([[1, 1, 1], [8, 8, 1], [225, 15, 1]])\n",
    "b = np.array([f(1), f(8), f(15)])\n",
    "x = np.linalg.solve(A, b)\n",
    "print (\"Матрица A:\\n\", A)\n",
    "print (\"Вектор b:\\n\", b)\n",
    "print (\"Решение системы:\\n\", x)"
   ]
  },
  {
   "cell_type": "code",
   "execution_count": 55,
   "id": "f5168a34",
   "metadata": {},
   "outputs": [
    {
     "data": {
      "image/png": "[encoded data removed]",
      "text/plain": [
       "<Figure size 432x288 with 1 Axes>"
      ]
     },
     "metadata": {
      "needs_background": "light"
     },
     "output_type": "display_data"
    }
   ],
   "source": [
    "def quadratic(x:float):\n",
    "    return(-0.00354715 * x**2 -0.13017381*x + 3.38593782)\n",
    "\n",
    "\n",
    "x = np.arange(1, 15, 0.01)\n",
    "y_1 = quadratic(x)\n",
    "y_2 = f(x)\n",
    "\n",
    "plt.plot(x, y_1)\n",
    "plt.plot(x, y_2)\n",
    "plt.show()"
   ]
  },
  {
   "cell_type": "code",
   "execution_count": 64,
   "id": "d1d479a4",
   "metadata": {},
   "outputs": [
    {
     "name": "stdout",
     "output_type": "stream",
     "text": [
      "Матрица A:\n",
      " [[1.000e+00 1.000e+00 1.000e+00 1.000e+00]\n",
      " [6.400e+01 1.600e+01 4.000e+00 1.000e+00]\n",
      " [1.000e+03 1.000e+02 1.000e+01 1.000e+00]\n",
      " [3.375e+03 2.250e+02 1.500e+01 1.000e+00]]\n",
      "Вектор b:\n",
      " [3.25221687 1.74684595 2.50541641 0.63522142]\n",
      "Решение системы:\n",
      " [-0.00823565  0.19333685 -1.29552587  4.36264154]\n"
     ]
    }
   ],
   "source": [
    "# Кубическое приближение\n",
    "A = np.array([[1, 1, 1, 1], [4.0**3, 4.0**2, 4.0, 1], \n",
    "             [10.0**3, 10.0**2, 10.0**1, 1], [15.0**3, 15.0**2, 15.0**1, 1]])\n",
    "b = np.array([f(1), f(4), f(10), f(15)])\n",
    "x = np.linalg.solve(A, b)\n",
    "print (\"Матрица A:\\n\", A)\n",
    "print (\"Вектор b:\\n\", b)\n",
    "print (\"Решение системы:\\n\", x)"
   ]
  },
  {
   "cell_type": "code",
   "execution_count": 61,
   "id": "4b58045f",
   "metadata": {},
   "outputs": [
    {
     "data": {
      "image/png": "[encoded data removed]",
      "text/plain": [
       "<Figure size 432x288 with 1 Axes>"
      ]
     },
     "metadata": {
      "needs_background": "light"
     },
     "output_type": "display_data"
    }
   ],
   "source": [
    "def qubic(x:float):\n",
    "    return(-0.00823565*x**3 + 0.19333685*x**2 -1.29552587*x + 4.36264154)\n",
    "\n",
    "\n",
    "x = np.arange(1, 15, 0.01)\n",
    "y_1 = qubic(x)\n",
    "y_2 = f(x)\n",
    "\n",
    "plt.plot(x, y_1)\n",
    "plt.plot(x, y_2)\n",
    "plt.show()"
   ]
  },
  {
   "cell_type": "code",
   "execution_count": null,
   "id": "c32f14d5",
   "metadata": {},
   "outputs": [],
   "source": []
  },
  {
   "cell_type": "code",
   "execution_count": null,
   "id": "141f1b9d",
   "metadata": {},
   "outputs": [],
   "source": []
  }
 ],
 "metadata": {
  "kernelspec": {
   "display_name": "Python 3",
   "language": "python",
   "name": "python3"
  },
  "language_info": {
   "codemirror_mode": {
    "name": "ipython",
    "version": 3
   },
   "file_extension": ".py",
   "mimetype": "text/x-python",
   "name": "python",
   "nbconvert_exporter": "python",
   "pygments_lexer": "ipython3",
   "version": "3.8.8"
  }
 },
 "nbformat": 4,
 "nbformat_minor": 5
}
